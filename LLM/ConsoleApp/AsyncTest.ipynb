{
 "cells": [
  {
   "cell_type": "code",
   "execution_count": 1,
   "id": "f6d70037",
   "metadata": {
    "vscode": {
     "languageId": "polyglot-notebook"
    }
   },
   "outputs": [
    {
     "ename": "Error",
     "evalue": "(1,10): error CS1002: ; expected",
     "output_type": "error",
     "traceback": [
      "(1,10): error CS1002: ; expected"
     ]
    }
   ],
   "source": [
    "let x = 5\n",
    "x"
   ]
  }
 ],
 "metadata": {
  "language_info": {
   "name": "python"
  }
 },
 "nbformat": 4,
 "nbformat_minor": 5
}
