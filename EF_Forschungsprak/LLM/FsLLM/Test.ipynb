{
 "cells": [
  {
   "cell_type": "code",
   "execution_count": 48,
   "id": "b8241d92",
   "metadata": {
    "language_info": {
     "name": "polyglot-notebook"
    },
    "polyglot_notebook": {
     "kernelName": "fsharp"
    }
   },
   "outputs": [
    {
     "data": {
      "text/html": [
       "<div><div></div><div></div><div><strong>Installed Packages</strong><ul><li><span>OllamaSharp, 5.4.7</span></li></ul></div></div>"
      ]
     },
     "metadata": {},
     "output_type": "display_data"
    }
   ],
   "source": [
    "#load \"../FsLLM/Library.fs\"\n",
    "#r \"nuget: OllamaSharp, 5.4.7\""
   ]
  },
  {
   "cell_type": "code",
   "execution_count": 49,
   "id": "eb1f2518",
   "metadata": {
    "language_info": {
     "name": "polyglot-notebook"
    },
    "polyglot_notebook": {
     "kernelName": "fsharp"
    }
   },
   "outputs": [],
   "source": [
    "open FsLLM\n",
    "open System\n",
    "open System.Text\n",
    "open System.Collections.Generic\n",
    "open System.Threading.Tasks\n",
    "open Microsoft.Extensions.AI\n",
    "open OllamaSharp"
   ]
  },
  {
   "cell_type": "code",
   "execution_count": 28,
   "metadata": {
    "dotnet_interactive": {
     "language": "fsharp"
    },
    "polyglot_notebook": {
     "kernelName": "fsharp"
    }
   },
   "outputs": [],
   "source": [
    "let client = Model.initClient(Model.Gpt_oss_20B)"
   ]
  },
  {
   "cell_type": "code",
   "execution_count": 12,
   "metadata": {
    "dotnet_interactive": {
     "language": "fsharp"
    },
    "polyglot_notebook": {
     "kernelName": "fsharp"
    }
   },
   "outputs": [],
   "source": [
    "let options : Prompt.Options = {\n",
    "    AllowMultipleToolCalls = true\n",
    "    ConversationId = \"abc123\"\n",
    "    FrequencyPenalty = 0.0\n",
    "    Instructions = \"Be helpful\"\n",
    "    MaxOutputTokens = 200\n",
    "    ModelId = \"gpt-oss:20b\"\n",
    "    PresencePenalty = 0.0\n",
    "    Seed = 42\n",
    "    Temperature = 0.7\n",
    "    TopK = 40\n",
    "    TopP = 0.9\n",
    "}\n"
   ]
  },
  {
   "cell_type": "code",
   "execution_count": 52,
   "metadata": {
    "dotnet_interactive": {
     "language": "fsharp"
    },
    "polyglot_notebook": {
     "kernelName": "fsharp"
    }
   },
   "outputs": [],
   "source": [
    "let someOptions = Prompt.LLMChatOptions.init(allowMultipleToolCalls = true)\n",
    "let options = Prompt.toChatOptions someOptions"
   ]
  },
  {
   "cell_type": "code",
   "execution_count": 11,
   "metadata": {
    "dotnet_interactive": {
     "language": "fsharp"
    },
    "polyglot_notebook": {
     "kernelName": "fsharp"
    }
   },
   "outputs": [
    {
     "data": {
      "text/html": [
       "<details open=\"open\" class=\"dni-treeview\"><summary><span class=\"dni-code-hint\"><code>Hallo! Wie kann ich dir heute helfen?</code></span></summary><div><table><thead><tr></tr></thead><tbody><tr><td>Messages</td><td><table><thead><tr><th><i>index</i></th><th>value</th></tr></thead><tbody><tr><td>0</td><td><details class=\"dni-treeview\"><summary><span class=\"dni-code-hint\"><code>Hallo! Wie kann ich dir heute helfen?</code></span></summary><div><table><thead><tr></tr></thead><tbody><tr><td>AuthorName</td><td><div class=\"dni-plaintext\"><pre>&lt;null&gt;</pre></div></td></tr><tr><td>CreatedAt</td><td><span>2025-10-23 22:07:40Z</span></td></tr><tr><td>Role</td><td><details class=\"dni-treeview\"><summary><span class=\"dni-code-hint\"><code>assistant</code></span></summary><div><table><thead><tr></tr></thead><tbody><tr><td>Value</td><td><div class=\"dni-plaintext\"><pre>assistant</pre></div></td></tr></tbody></table></div></details></td></tr><tr><td>Text</td><td><div class=\"dni-plaintext\"><pre>Hallo! Wie kann ich dir heute helfen?</pre></div></td></tr><tr><td>Contents</td><td><table><thead><tr><th><i>index</i></th><th><i>type</i></th><th>value</th></tr></thead><tbody><tr><td>0</td><td><span><a href=\"https://docs.microsoft.com/dotnet/api/microsoft.extensions.ai.textcontent?view=net-7.0\">Microsoft.Extensions.AI.TextContent</a></span></td><td><details class=\"dni-treeview\"><summary><span class=\"dni-code-hint\"><code>Hallo! Wie kann ich dir heute helfen?</code></span></summary><div><table><thead><tr></tr></thead><tbody><tr><td>Text</td><td><div class=\"dni-plaintext\"><pre>Hallo! Wie kann ich dir heute helfen?</pre></div></td></tr><tr><td>Annotations</td><td><div class=\"dni-plaintext\"><pre>&lt;null&gt;</pre></div></td></tr><tr><td>RawRepresentation</td><td><div class=\"dni-plaintext\"><pre>&lt;null&gt;</pre></div></td></tr><tr><td>AdditionalProperties</td><td><div class=\"dni-plaintext\"><pre>&lt;null&gt;</pre></div></td></tr></tbody></table></div></details></td></tr><tr><td>1</td><td><span><a href=\"https://docs.microsoft.com/dotnet/api/microsoft.extensions.ai.textreasoningcontent?view=net-7.0\">Microsoft.Extensions.AI.TextReasoningContent</a></span></td><td><details class=\"dni-treeview\"><summary><span class=\"dni-code-hint\"><code>User says &quot;Hallo&quot;. They are greeting. We respond politely in German.</code></span></summary><div><table><thead><tr></tr></thead><tbody><tr><td>Text</td><td><div class=\"dni-plaintext\"><pre>User says &quot;Hallo&quot;. They are greeting. We respond politely in German.</pre></div></td></tr><tr><td>Annotations</td><td><div class=\"dni-plaintext\"><pre>&lt;null&gt;</pre></div></td></tr><tr><td>RawRepresentation</td><td><div class=\"dni-plaintext\"><pre>&lt;null&gt;</pre></div></td></tr><tr><td>AdditionalProperties</td><td><div class=\"dni-plaintext\"><pre>&lt;null&gt;</pre></div></td></tr></tbody></table></div></details></td></tr></tbody></table></td></tr><tr><td>MessageId</td><td><div class=\"dni-plaintext\"><pre>&lt;null&gt;</pre></div></td></tr><tr><td>RawRepresentation</td><td><details class=\"dni-treeview\"><summary><span class=\"dni-code-hint\"><code>OllamaSharp.Models.Chat.Message</code></span></summary><div><table><thead><tr></tr></thead><tbody><tr><td>Role</td><td><details class=\"dni-treeview\"><summary><span class=\"dni-code-hint\"><code>assistant</code></span></summary><div><table><thead><tr></tr></thead><tbody></tbody></table></div></details></td></tr><tr><td>Content</td><td><div class=\"dni-plaintext\"><pre>Hallo! Wie kann ich dir heute helfen?</pre></div></td></tr><tr><td>Images</td><td><div class=\"dni-plaintext\"><pre>[  ]</pre></div></td></tr><tr><td>Thinking</td><td><div class=\"dni-plaintext\"><pre>User says &quot;Hallo&quot;. They are greeting. We respond politely in German.</pre></div></td></tr><tr><td>ToolName</td><td><div class=\"dni-plaintext\"><pre>&lt;null&gt;</pre></div></td></tr><tr><td>ToolCalls</td><td><i>(empty)</i></td></tr></tbody></table></div></details></td></tr><tr><td>AdditionalProperties</td><td><div class=\"dni-plaintext\"><pre>&lt;null&gt;</pre></div></td></tr></tbody></table></div></details></td></tr></tbody></table></td></tr><tr><td>Text</td><td><div class=\"dni-plaintext\"><pre>Hallo! Wie kann ich dir heute helfen?</pre></div></td></tr><tr><td>ResponseId</td><td><div class=\"dni-plaintext\"><pre>2025-10-23T22:07:40.0418476Z</pre></div></td></tr><tr><td>ConversationId</td><td><div class=\"dni-plaintext\"><pre>&lt;null&gt;</pre></div></td></tr><tr><td>ModelId</td><td><div class=\"dni-plaintext\"><pre>gpt-oss:20b</pre></div></td></tr><tr><td>CreatedAt</td><td><span>2025-10-23 22:07:40Z</span></td></tr><tr><td>FinishReason</td><td><details class=\"dni-treeview\"><summary><span class=\"dni-code-hint\"><code>stop</code></span></summary><div><table><thead><tr></tr></thead><tbody><tr><td>Value</td><td><div class=\"dni-plaintext\"><pre>stop</pre></div></td></tr></tbody></table></div></details></td></tr><tr><td>Usage</td><td><details class=\"dni-treeview\"><summary><span class=\"dni-code-hint\"><code>Microsoft.Extensions.AI.UsageDetails</code></span></summary><div><table><thead><tr></tr></thead><tbody><tr><td>InputTokenCount</td><td><div class=\"dni-plaintext\"><pre>78</pre></div></td></tr><tr><td>OutputTokenCount</td><td><div class=\"dni-plaintext\"><pre>34</pre></div></td></tr><tr><td>TotalTokenCount</td><td><div class=\"dni-plaintext\"><pre>112</pre></div></td></tr><tr><td>AdditionalCounts</td><td><div class=\"dni-plaintext\"><pre>&lt;null&gt;</pre></div></td></tr></tbody></table></div></details></td></tr><tr><td>RawRepresentation</td><td><details class=\"dni-treeview\"><summary><span class=\"dni-code-hint\"><code>OllamaSharp.Models.Chat.ChatDoneResponseStream</code></span></summary><div><table><thead><tr></tr></thead><tbody><tr><td>TotalDuration</td><td><div class=\"dni-plaintext\"><pre>27828573900</pre></div></td></tr><tr><td>LoadDuration</td><td><div class=\"dni-plaintext\"><pre>6329507300</pre></div></td></tr><tr><td>PromptEvalCount</td><td><div class=\"dni-plaintext\"><pre>78</pre></div></td></tr><tr><td>PromptEvalDuration</td><td><div class=\"dni-plaintext\"><pre>20567994700</pre></div></td></tr><tr><td>EvalCount</td><td><div class=\"dni-plaintext\"><pre>34</pre></div></td></tr><tr><td>EvalDuration</td><td><div class=\"dni-plaintext\"><pre>898582200</pre></div></td></tr><tr><td>DoneReason</td><td><div class=\"dni-plaintext\"><pre>stop</pre></div></td></tr><tr><td>Model</td><td><div class=\"dni-plaintext\"><pre>gpt-oss:20b</pre></div></td></tr><tr><td>CreatedAtString</td><td><div class=\"dni-plaintext\"><pre>2025-10-23T22:07:40.0418476Z</pre></div></td></tr><tr><td>CreatedAt</td><td><span>2025-10-23 22:07:40Z</span></td></tr><tr><td>Message</td><td><details class=\"dni-treeview\"><summary><span class=\"dni-code-hint\"><code>OllamaSharp.Models.Chat.Message</code></span></summary><div><table><thead><tr></tr></thead><tbody><tr><td>Role</td><td><details class=\"dni-treeview\"><summary><span class=\"dni-code-hint\"><code>assistant</code></span></summary><div><table><thead><tr></tr></thead><tbody></tbody></table></div></details></td></tr><tr><td>Content</td><td><div class=\"dni-plaintext\"><pre>Hallo! Wie kann ich dir heute helfen?</pre></div></td></tr><tr><td>Images</td><td><div class=\"dni-plaintext\"><pre>[  ]</pre></div></td></tr><tr><td>Thinking</td><td><div class=\"dni-plaintext\"><pre>User says &quot;Hallo&quot;. They are greeting. We respond politely in German.</pre></div></td></tr><tr><td>ToolName</td><td><div class=\"dni-plaintext\"><pre>&lt;null&gt;</pre></div></td></tr><tr><td>ToolCalls</td><td><i>(empty)</i></td></tr></tbody></table></div></details></td></tr><tr><td>Done</td><td><div class=\"dni-plaintext\"><pre>True</pre></div></td></tr></tbody></table></div></details></td></tr><tr><td>AdditionalProperties</td><td><table><thead><tr><th><i>key</i></th><th>value</th></tr></thead><tbody><tr><td><div class=\"dni-plaintext\"><pre>load_duration</pre></div></td><td><span>00:00:06.3295073</span></td></tr><tr><td><div class=\"dni-plaintext\"><pre>total_duration</pre></div></td><td><span>00:00:27.8285739</span></td></tr><tr><td><div class=\"dni-plaintext\"><pre>prompt_eval_duration</pre></div></td><td><span>00:00:20.5679947</span></td></tr><tr><td><div class=\"dni-plaintext\"><pre>eval_duration</pre></div></td><td><span>00:00:00.8985822</span></td></tr></tbody></table></td></tr></tbody></table></div></details><style>\r\n",
       ".dni-code-hint {\r\n",
       "    font-style: italic;\r\n",
       "    overflow: hidden;\r\n",
       "    white-space: nowrap;\r\n",
       "}\r\n",
       ".dni-treeview {\r\n",
       "    white-space: nowrap;\r\n",
       "}\r\n",
       ".dni-treeview td {\r\n",
       "    vertical-align: top;\r\n",
       "    text-align: start;\r\n",
       "}\r\n",
       "details.dni-treeview {\r\n",
       "    padding-left: 1em;\r\n",
       "}\r\n",
       "table td {\r\n",
       "    text-align: start;\r\n",
       "}\r\n",
       "table tr { \r\n",
       "    vertical-align: top; \r\n",
       "    margin: 0em 0px;\r\n",
       "}\r\n",
       "table tr td pre \r\n",
       "{ \r\n",
       "    vertical-align: top !important; \r\n",
       "    margin: 0em 0px !important;\r\n",
       "} \r\n",
       "table th {\r\n",
       "    text-align: start;\r\n",
       "}\r\n",
       "</style>"
      ]
     },
     "metadata": {},
     "output_type": "display_data"
    }
   ],
   "source": [
    "Prompt.getResponse client (Prompt.setOptions options) \"Hallo\""
   ]
  },
  {
   "cell_type": "code",
   "execution_count": null,
   "metadata": {
    "dotnet_interactive": {
     "language": "fsharp"
    },
    "polyglot_notebook": {
     "kernelName": "fsharp"
    }
   },
   "outputs": [],
   "source": [
    "Prompt.getResponseText "
   ]
  }
 ],
 "metadata": {
  "kernelspec": {
   "display_name": ".NET (C#)",
   "language": "C#",
   "name": ".net-csharp"
  },
  "language_info": {
   "name": "polyglot-notebook"
  },
  "polyglot_notebook": {
   "kernelInfo": {
    "defaultKernelName": "csharp",
    "items": [
     {
      "aliases": [],
      "name": "csharp"
     }
    ]
   }
  }
 },
 "nbformat": 4,
 "nbformat_minor": 5
}
