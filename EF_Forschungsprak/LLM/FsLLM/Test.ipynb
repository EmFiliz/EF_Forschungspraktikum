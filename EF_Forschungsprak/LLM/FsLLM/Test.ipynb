{
 "cells": [
  {
   "cell_type": "code",
   "execution_count": 26,
   "id": "b8241d92",
   "metadata": {
    "language_info": {
     "name": "polyglot-notebook"
    },
    "polyglot_notebook": {
     "kernelName": "fsharp"
    }
   },
   "outputs": [
    {
     "data": {
      "text/html": [
       "<div><div></div><div></div><div><strong>Installed Packages</strong><ul><li><span>OllamaSharp, 5.4.7</span></li></ul></div></div>"
      ]
     },
     "metadata": {},
     "output_type": "display_data"
    }
   ],
   "source": [
    "#load \"../FsLLM/Library.fs\"\n",
    "#r \"nuget: OllamaSharp, 5.4.7\""
   ]
  },
  {
   "cell_type": "code",
   "execution_count": 27,
   "id": "eb1f2518",
   "metadata": {
    "language_info": {
     "name": "polyglot-notebook"
    },
    "polyglot_notebook": {
     "kernelName": "fsharp"
    }
   },
   "outputs": [],
   "source": [
    "open FsLLM\n",
    "open System\n",
    "open System.Text\n",
    "open System.Collections.Generic\n",
    "open System.Threading.Tasks\n",
    "open Microsoft.Extensions.AI\n",
    "open OllamaSharp"
   ]
  },
  {
   "cell_type": "code",
   "execution_count": 28,
   "metadata": {
    "dotnet_interactive": {
     "language": "fsharp"
    },
    "polyglot_notebook": {
     "kernelName": "fsharp"
    }
   },
   "outputs": [],
   "source": [
    "let client = Model.initClient(Model.Gpt_oss_20B)"
   ]
  },
  {
   "cell_type": "code",
   "execution_count": 29,
   "metadata": {
    "dotnet_interactive": {
     "language": "fsharp"
    },
    "polyglot_notebook": {
     "kernelName": "fsharp"
    }
   },
   "outputs": [],
   "source": [
    "let options : Prompt.LLMChatOptions =\n",
    "    Prompt.LLMChatOptions.init(\n",
    "        Temperature = 1.0\n",
    "    )"
   ]
  },
  {
   "cell_type": "code",
   "execution_count": 30,
   "metadata": {
    "language_info": {
     "name": "polyglot-notebook"
    },
    "polyglot_notebook": {
     "kernelName": "fsharp"
    }
   },
   "outputs": [],
   "source": [
    "let randomStrings = [|\n",
    "  \"Hallo\"; \"Was machst du?\"; \"Wie geht's?\"; \"Guten Morgen\"; \"Schönen Tag noch\";\n",
    "  \"Alles klar?\"; \"Was gibt's Neues?\"; \"Bis später\"; \"Tschüss\"; \"Auf Wiedersehen\";\n",
    "  \"Lass uns treffen\"; \"Kaffee trinken?\"; \"Essen gehen?\"; \"Gute Nacht\"; \"Träum süß\";\n",
    "  \"Alles Gute\"; \"Herzlichen Glückwunsch\"; \"Viel Erfolg\"; \"Pass auf dich auf\"; \"Ich liebe dich\";\n",
    "  \"Danke schön\"; \"Bitte\"; \"Entschuldigung\"; \"Kein Problem\"; \"Gern geschehen\";\n",
    "  \"Frohe Weihnachten\"; \"Frohes Neues Jahr\"; \"Viel Glück\"; \"Viel Spaß\"; \"Gute Besserung\";\n",
    "  \"Alles Liebe\"; \"Schön dich zu sehen\"; \"Lange nicht gesehen\"; \"Wie war dein Tag?\"; \"Was machst du heute?\";\n",
    "  \"Bis morgen\"; \"Mach's gut\"; \"Hast du Zeit?\"; \"Komm vorbei\"; \"Ruf mich an\";\n",
    "  \"Schreib mir\"; \"Ich vermisse dich\"; \"Ich freue mich\"; \"Genieß den Tag\"; \"Sei vorsichtig\";\n",
    "  \"Bleib gesund\"; \"Pass auf dich auf\"; \"Super gemacht\"; \"Gut gemacht\"; \"Toll!\";\n",
    "  \"Unglaublich\"; \"Fantastisch\"; \"Bravo\"; \"Wunderbar\"; \"Spitze\";\n",
    "  \"Perfekt\"; \"Na klar\"; \"Natürlich\"; \"Vielleicht\"; \"Eventuell\";\n",
    "  \"Ich weiß nicht\"; \"Keine Ahnung\"; \"Mal sehen\"; \"Wir sehen uns\"; \"Auf jeden Fall\";\n",
    "  \"Definitiv\"; \"Absolut\"; \"Ja\"; \"Nein\"; \"Vielleicht später\";\n",
    "  \"Ich stimme zu\"; \"Ich stimme nicht zu\"; \"Interessant\"; \"Erzähl mir mehr\"; \"Erzähl weiter\";\n",
    "  \"Lass uns anfangen\"; \"Los geht's\"; \"Auf geht's\"; \"Ich bin bereit\"; \"Bereit?\"; \n",
    "  \"Vorsicht!\"; \"Achtung!\"; \"Pass auf!\"; \"Beeil dich\"; \"Langsam\";\n",
    "  \"Ruhig\"; \"Entspann dich\"; \"Cool bleiben\"; \"Keine Sorge\"; \"Alles gut\";\n",
    "  \"Schlaf gut\"; \"Trink Wasser\"; \"Iss gesund\"; \"Bleib positiv\"; \"Denke daran\";\n",
    "  \"Gib dein Bestes\"; \"Halt durch\"; \"Nicht aufgeben\"; \"Du schaffst das\"; \"Kopf hoch\";\n",
    "  \"Lächeln\"; \"Sei glücklich\"; \"Freu dich\"; \"Hab Spaß\"; \"Genieße den Moment\"\n",
    "|]"
   ]
  },
  {
   "cell_type": "code",
   "execution_count": 21,
   "metadata": {
    "language_info": {
     "name": "polyglot-notebook"
    },
    "polyglot_notebook": {
     "kernelName": "fsharp"
    }
   },
   "outputs": [],
   "source": [
    "let Text : string[] = [|\"Hallo\"; \"Was ist DNA?\"|]"
   ]
  },
  {
   "cell_type": "code",
   "execution_count": 25,
   "metadata": {
    "language_info": {
     "name": "polyglot-notebook"
    },
    "polyglot_notebook": {
     "kernelName": "fsharp"
    }
   },
   "outputs": [
    {
     "ename": "Error",
     "evalue": "System.Threading.Tasks.TaskCanceledException: A task was canceled.\r\n   at Microsoft.FSharp.Control.AsyncResult`1.Commit() in D:\\a\\_work\\1\\s\\src\\FSharp.Core\\async.fs:line 453\r\n   at Microsoft.FSharp.Control.AsyncPrimitives.QueueAsyncAndWaitForResultSynchronously[a](CancellationToken token, FSharpAsync`1 computation, FSharpOption`1 timeout) in D:\\a\\_work\\1\\s\\src\\FSharp.Core\\async.fs:line 1138\r\n   at Microsoft.FSharp.Control.FSharpAsync.RunSynchronously[T](FSharpAsync`1 computation, FSharpOption`1 timeout, FSharpOption`1 cancellationToken)\r\n   at FSI_0019.FsLLM.Prompt.getResponseText(IChatClient client, LLMChatOptions options, String prompt)\r\n   at <StartupCode$FSI_0040>.$FSI_0040.main@()\r\n   at System.RuntimeMethodHandle.InvokeMethod(Object target, Void** arguments, Signature sig, Boolean isConstructor)\r\n   at System.Reflection.MethodBaseInvoker.InvokeWithNoArgs(Object obj, BindingFlags invokeAttr)",
     "output_type": "error",
     "traceback": [
      "System.Threading.Tasks.TaskCanceledException: A task was canceled.\r\n",
      "   at Microsoft.FSharp.Control.AsyncResult`1.Commit() in D:\\a\\_work\\1\\s\\src\\FSharp.Core\\async.fs:line 453\r\n",
      "   at Microsoft.FSharp.Control.AsyncPrimitives.QueueAsyncAndWaitForResultSynchronously[a](CancellationToken token, FSharpAsync`1 computation, FSharpOption`1 timeout) in D:\\a\\_work\\1\\s\\src\\FSharp.Core\\async.fs:line 1138\r\n",
      "   at Microsoft.FSharp.Control.FSharpAsync.RunSynchronously[T](FSharpAsync`1 computation, FSharpOption`1 timeout, FSharpOption`1 cancellationToken)\r\n",
      "   at FSI_0019.FsLLM.Prompt.getResponseText(IChatClient client, LLMChatOptions options, String prompt)\r\n",
      "   at <StartupCode$FSI_0040>.$FSI_0040.main@()\r\n",
      "   at System.RuntimeMethodHandle.InvokeMethod(Object target, Void** arguments, Signature sig, Boolean isConstructor)\r\n",
      "   at System.Reflection.MethodBaseInvoker.InvokeWithNoArgs(Object obj, BindingFlags invokeAttr)"
     ]
    }
   ],
   "source": [
    "let stopWatch = System.Diagnostics.Stopwatch.StartNew()\n",
    "\n",
    "randomStrings\n",
    "|> Array.map (fun s -> Prompt.getResponseText client options s)\n",
    "\n",
    "stopWatch.Stop()\n",
    "printfn \"%f\" stopWatch.Elapsed.TotalSeconds"
   ]
  }
 ],
 "metadata": {
  "kernelspec": {
   "display_name": ".NET (C#)",
   "language": "C#",
   "name": ".net-csharp"
  },
  "language_info": {
   "name": "polyglot-notebook"
  },
  "polyglot_notebook": {
   "kernelInfo": {
    "defaultKernelName": "csharp",
    "items": [
     {
      "aliases": [],
      "name": "csharp"
     }
    ]
   }
  }
 },
 "nbformat": 4,
 "nbformat_minor": 5
}
