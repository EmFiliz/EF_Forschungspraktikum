{
 "cells": [
  {
   "cell_type": "code",
   "execution_count": 1,
   "id": "b8241d92",
   "metadata": {
    "language_info": {
     "name": "polyglot-notebook"
    },
    "polyglot_notebook": {
     "kernelName": "fsharp"
    }
   },
   "outputs": [
    {
     "data": {
      "text/html": [
       "<div><div></div><div></div><div><strong>Installed Packages</strong><ul><li><span>OllamaSharp, 5.4.7</span></li></ul></div></div>"
      ]
     },
     "metadata": {},
     "output_type": "display_data"
    }
   ],
   "source": [
    "#load \"../lib/Library.fs\"\n",
    "#r \"nuget: OllamaSharp, 5.4.7\""
   ]
  },
  {
   "cell_type": "code",
   "execution_count": 2,
   "id": "eb1f2518",
   "metadata": {
    "language_info": {
     "name": "polyglot-notebook"
    },
    "polyglot_notebook": {
     "kernelName": "fsharp"
    }
   },
   "outputs": [],
   "source": [
    "open FSharpLLM\n",
    "open System\n",
    "open System.Text\n",
    "open System.Collections.Generic\n",
    "open System.Threading.Tasks\n",
    "open Microsoft.Extensions.AI\n",
    "open OllamaSharp"
   ]
  },
  {
   "cell_type": "code",
   "execution_count": 3,
   "id": "2b1411cc",
   "metadata": {
    "language_info": {
     "name": "polyglot-notebook"
    },
    "polyglot_notebook": {
     "kernelName": "fsharp"
    }
   },
   "outputs": [],
   "source": [
    "// let chatClient : IChatClient =\n",
    "//     new OllamaApiClient(new Uri(\"http://localhost:11434/\"), \"gpt-oss:20b\")\n",
    "\n",
    "// let getPrompt (text: string) =\n",
    "//     task{\n",
    "//         let! response = chatClient.GetResponseAsync(text)\n",
    "//         Console.WriteLine(response)\n",
    "//     }\n",
    "//     |> Async.AwaitTask\n",
    "//     |> Async.RunSynchronously\n",
    "\n",
    "// getPrompt \"Hallo wie geht es dir?\""
   ]
  },
  {
   "cell_type": "code",
   "execution_count": null,
   "metadata": {
    "language_info": {
     "name": "polyglot-notebook"
    },
    "polyglot_notebook": {
     "kernelName": "fsharp"
    }
   },
   "outputs": [
    {
     "ename": "Error",
     "evalue": "input.fsx (1,10)-(1,11) parse error Missing qualification after '.'",
     "output_type": "error",
     "traceback": [
      "input.fsx (1,10)-(1,11) parse error Missing qualification after '.'"
     ]
    }
   ],
   "source": []
  }
 ],
 "metadata": {
  "kernelspec": {
   "display_name": ".NET (C#)",
   "language": "C#",
   "name": ".net-csharp"
  },
  "language_info": {
   "name": "polyglot-notebook"
  },
  "polyglot_notebook": {
   "kernelInfo": {
    "defaultKernelName": "csharp",
    "items": [
     {
      "aliases": [],
      "name": "csharp"
     }
    ]
   }
  }
 },
 "nbformat": 4,
 "nbformat_minor": 5
}
