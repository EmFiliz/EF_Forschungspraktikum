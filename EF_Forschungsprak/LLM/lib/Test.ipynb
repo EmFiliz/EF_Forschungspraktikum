{
 "cells": [
  {
   "cell_type": "code",
   "execution_count": 85,
   "id": "b8241d92",
   "metadata": {
    "language_info": {
     "name": "polyglot-notebook"
    },
    "polyglot_notebook": {
     "kernelName": "fsharp"
    }
   },
   "outputs": [
    {
     "data": {
      "text/html": [
       "<div><div></div><div></div><div><strong>Installed Packages</strong><ul><li><span>OllamaSharp, 5.4.7</span></li></ul></div></div>"
      ]
     },
     "metadata": {},
     "output_type": "display_data"
    }
   ],
   "source": [
    "#load \"../lib/Library.fs\"\n",
    "#r \"nuget: OllamaSharp, 5.4.7\""
   ]
  },
  {
   "cell_type": "code",
   "execution_count": 86,
   "id": "eb1f2518",
   "metadata": {
    "language_info": {
     "name": "polyglot-notebook"
    },
    "polyglot_notebook": {
     "kernelName": "fsharp"
    }
   },
   "outputs": [],
   "source": [
    "open FsLLM\n",
    "open System\n",
    "open System.Text\n",
    "open System.Collections.Generic\n",
    "open System.Threading.Tasks\n",
    "open Microsoft.Extensions.AI\n",
    "open OllamaSharp"
   ]
  },
  {
   "cell_type": "code",
   "execution_count": 8,
   "id": "2b1411cc",
   "metadata": {
    "language_info": {
     "name": "polyglot-notebook"
    },
    "polyglot_notebook": {
     "kernelName": "fsharp"
    }
   },
   "outputs": [],
   "source": [
    "// let chatClient : IChatClient =\n",
    "//     new OllamaApiClient(new Uri(\"http://localhost:11434/\"), \"gpt-oss:20b\")\n",
    "\n",
    "// let getPrompt (text: string) =\n",
    "//     task{\n",
    "//         let! response = chatClient.GetResponseAsync(text)\n",
    "//         Console.WriteLine(response)\n",
    "//     }\n",
    "//     |> Async.AwaitTask\n",
    "//     |> Async.RunSynchronously\n",
    "\n",
    "// getPrompt \"Hallo wie geht es dir?\""
   ]
  },
  {
   "cell_type": "code",
   "execution_count": 89,
   "metadata": {
    "dotnet_interactive": {
     "language": "fsharp"
    },
    "polyglot_notebook": {
     "kernelName": "fsharp"
    }
   },
   "outputs": [],
   "source": [
    "let chatHistory1 = Prompt.initChatHistory()\n",
    "let chatHistory2 = Prompt.initChatHistory()\n",
    "\n",
    "let chatHistory3 = Prompt.chatHistory"
   ]
  },
  {
   "cell_type": "code",
   "execution_count": 88,
   "metadata": {
    "dotnet_interactive": {
     "language": "fsharp"
    },
    "polyglot_notebook": {
     "kernelName": "fsharp"
    }
   },
   "outputs": [],
   "source": [
    "let client1 = Model.initClient(Model.Gpt_oss_20B)\n",
    "let client2 = Model.initClient(Model.Phi3_3_8B)"
   ]
  },
  {
   "cell_type": "code",
   "execution_count": 90,
   "metadata": {
    "dotnet_interactive": {
     "language": "fsharp"
    },
    "polyglot_notebook": {
     "kernelName": "fsharp"
    }
   },
   "outputs": [
    {
     "data": {
      "text/plain": [
       "Hallo! Wie kann ich dir heute helfen?"
      ]
     },
     "metadata": {},
     "output_type": "display_data"
    }
   ],
   "source": [
    "Prompt.getResponseWithChatHistoryText client1 chatHistory1 \"Hallo\""
   ]
  },
  {
   "cell_type": "code",
   "execution_count": 76,
   "metadata": {
    "dotnet_interactive": {
     "language": "fsharp"
    },
    "polyglot_notebook": {
     "kernelName": "fsharp"
    }
   },
   "outputs": [
    {
     "data": {
      "text/plain": [
       "Deine erste Nachricht an mich lautete:  \n",
       "\n",
       "> **„Was ist DNA“**"
      ]
     },
     "metadata": {},
     "output_type": "display_data"
    }
   ],
   "source": [
    "Prompt.getResponseWithChatHistoryText(Model.initClient(Model.Gpt_oss_20B)) chatHistory \"Was war meine erste Nachricht an dich\""
   ]
  }
 ],
 "metadata": {
  "kernelspec": {
   "display_name": ".NET (C#)",
   "language": "C#",
   "name": ".net-csharp"
  },
  "language_info": {
   "name": "polyglot-notebook"
  },
  "polyglot_notebook": {
   "kernelInfo": {
    "defaultKernelName": "csharp",
    "items": [
     {
      "aliases": [],
      "name": "csharp"
     }
    ]
   }
  }
 },
 "nbformat": 4,
 "nbformat_minor": 5
}
