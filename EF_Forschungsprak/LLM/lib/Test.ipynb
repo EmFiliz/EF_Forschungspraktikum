{
 "cells": [
  {
   "cell_type": "code",
   "execution_count": 23,
   "id": "b8241d92",
   "metadata": {
    "language_info": {
     "name": "polyglot-notebook"
    },
    "polyglot_notebook": {
     "kernelName": "fsharp"
    }
   },
   "outputs": [
    {
     "data": {
      "text/html": [
       "<div><div></div><div></div><div><strong>Installed Packages</strong><ul><li><span>OllamaSharp, 5.4.7</span></li></ul></div></div>"
      ]
     },
     "metadata": {},
     "output_type": "display_data"
    }
   ],
   "source": [
    "#load \"../lib/Library.fs\"\n",
    "#r \"nuget: OllamaSharp, 5.4.7\""
   ]
  },
  {
   "cell_type": "code",
   "execution_count": 24,
   "id": "eb1f2518",
   "metadata": {
    "language_info": {
     "name": "polyglot-notebook"
    },
    "polyglot_notebook": {
     "kernelName": "fsharp"
    }
   },
   "outputs": [],
   "source": [
    "open FsLLM\n",
    "open System\n",
    "open System.Text\n",
    "open System.Collections.Generic\n",
    "open System.Threading.Tasks\n",
    "open Microsoft.Extensions.AI\n",
    "open OllamaSharp"
   ]
  },
  {
   "cell_type": "code",
   "execution_count": 18,
   "metadata": {
    "dotnet_interactive": {
     "language": "fsharp"
    },
    "polyglot_notebook": {
     "kernelName": "fsharp"
    }
   },
   "outputs": [
    {
     "data": {
      "text/plain": [
       "Hallo! Wie kann ich dir heute weiterhelfen? 🇩🇪"
      ]
     },
     "metadata": {},
     "output_type": "display_data"
    }
   ],
   "source": [
    "let client = Model.initClient(Model.Gpt_oss_20B)\n",
    "\n",
    "let options = ChatOptions(\n",
    "    Temperature = (float32 1.0),\n",
    "    TopK = (int32 50),\n",
    "    TopP = (float32 20.0),\n",
    "    MaxOutputTokens = (int32 59)\n",
    ")\n",
    "\n",
    "Prompt.getResponseText client options \"Hallo\""
   ]
  },
  {
   "cell_type": "code",
   "execution_count": 25,
   "metadata": {
    "dotnet_interactive": {
     "language": "fsharp"
    },
    "polyglot_notebook": {
     "kernelName": "fsharp"
    }
   },
   "outputs": [
    {
     "data": {
      "text/html": [
       "<div class=\"dni-plaintext\"><pre>True</pre></div><style>\r\n",
       ".dni-code-hint {\r\n",
       "    font-style: italic;\r\n",
       "    overflow: hidden;\r\n",
       "    white-space: nowrap;\r\n",
       "}\r\n",
       ".dni-treeview {\r\n",
       "    white-space: nowrap;\r\n",
       "}\r\n",
       ".dni-treeview td {\r\n",
       "    vertical-align: top;\r\n",
       "    text-align: start;\r\n",
       "}\r\n",
       "details.dni-treeview {\r\n",
       "    padding-left: 1em;\r\n",
       "}\r\n",
       "table td {\r\n",
       "    text-align: start;\r\n",
       "}\r\n",
       "table tr { \r\n",
       "    vertical-align: top; \r\n",
       "    margin: 0em 0px;\r\n",
       "}\r\n",
       "table tr td pre \r\n",
       "{ \r\n",
       "    vertical-align: top !important; \r\n",
       "    margin: 0em 0px !important;\r\n",
       "} \r\n",
       "table th {\r\n",
       "    text-align: start;\r\n",
       "}\r\n",
       "</style>"
      ]
     },
     "metadata": {},
     "output_type": "display_data"
    }
   ],
   "source": [
    "Models.listRunningModel client"
   ]
  },
  {
   "cell_type": "code",
   "execution_count": 9,
   "metadata": {
    "dotnet_interactive": {
     "language": "fsharp"
    },
    "polyglot_notebook": {
     "kernelName": "fsharp"
    }
   },
   "outputs": [],
   "source": [
    "let listRunningModel (client: IChatClient) =\n",
    "    task{\n",
    "        (client :?> OllamaApiClient).\n",
    "    }\n",
    "    |> Async.AwaitTask\n",
    "    |> Async.RunSynchronously\n",
    "\n",
    "listRunningModel client"
   ]
  },
  {
   "cell_type": "code",
   "execution_count": null,
   "metadata": {
    "dotnet_interactive": {
     "language": "fsharp"
    },
    "polyglot_notebook": {
     "kernelName": "fsharp"
    }
   },
   "outputs": [],
   "source": [
    "let unloadModelWithTime (client: IChatClient) (time: string) =\n",
    "        let request = (client :?> OllamaApiClient).GenerateAsync(\n",
    "            new Models.GenerateRequest(\n",
    "                Model = (client :?> OllamaApiClient).SelectedModel,\n",
    "                Stream = false,\n",
    "                KeepAlive = time\n",
    "            )\n",
    "        )\n",
    "        let enumerator = request.GetAsyncEnumerator()\n",
    "        let rec loop () = \n",
    "            task{\n",
    "                let! hasNext = enumerator.MoveNextAsync()\n",
    "                if hasNext then\n",
    "                    let item = enumerator.Current\n",
    "                    return! loop()\n",
    "            }\n",
    "        loop()\n",
    "        |> Async.AwaitTask\n",
    "        |> Async.RunSynchronously"
   ]
  },
  {
   "cell_type": "code",
   "execution_count": 78,
   "metadata": {
    "dotnet_interactive": {
     "language": "fsharp"
    },
    "polyglot_notebook": {
     "kernelName": "fsharp"
    }
   },
   "outputs": [],
   "source": [
    "Models.unloadModel client"
   ]
  },
  {
   "cell_type": "code",
   "execution_count": 14,
   "metadata": {
    "dotnet_interactive": {
     "language": "fsharp"
    },
    "polyglot_notebook": {
     "kernelName": "fsharp"
    }
   },
   "outputs": [],
   "source": [
    "open OllamaSharp.Models\n",
    "\n",
    "let ollama = (client :?> OllamaApiClient)"
   ]
  },
  {
   "cell_type": "code",
   "execution_count": 80,
   "metadata": {
    "dotnet_interactive": {
     "language": "fsharp"
    },
    "polyglot_notebook": {
     "kernelName": "fsharp"
    }
   },
   "outputs": [
    {
     "data": {
      "text/plain": [
       "temperature                    1"
      ]
     },
     "metadata": {},
     "output_type": "display_data"
    }
   ],
   "source": [
    "open OllamaSharp.Models\n",
    "\n",
    "let result = \n",
    "    (client :?> OllamaApiClient).ShowModelAsync(\n",
    "    ShowModelRequest(\n",
    "        Model = \"gpt-oss:20b\"\n",
    "    )\n",
    "    )\n",
    "    |> Async.AwaitTask\n",
    "    |> Async.RunSynchronously\n",
    "result.Parameters"
   ]
  },
  {
   "cell_type": "code",
   "execution_count": 34,
   "metadata": {
    "dotnet_interactive": {
     "language": "fsharp"
    },
    "polyglot_notebook": {
     "kernelName": "fsharp"
    }
   },
   "outputs": [
    {
     "data": {
      "text/html": [
       "<details open=\"open\" class=\"dni-treeview\"><summary><span class=\"dni-code-hint\"><code>**DNA – Desoxyribonukleins&#228;ure**  \\n\\nDNA ist das Molek&#252;l, das die genetische Information aller bekannten lebenden Organismen und vieler Viren tr&#228;gt. Sie steckt in jedem Zellkern (und in den Mitochondrien) und ist die Grundlage f&#252;r Erblichkeit, Zellfunktion und Weitergabe von Merkmalen an die n&#228;chst...</code></span></summary><div><table><thead><tr></tr></thead><tbody><tr><td>Messages</td><td><table><thead><tr><th><i>index</i></th><th>value</th></tr></thead><tbody><tr><td>0</td><td><details class=\"dni-treeview\"><summary><span class=\"dni-code-hint\"><code>**DNA – Desoxyribonukleins&#228;ure**  \\n\\nDNA ist das Molek&#252;l, das die genetische Information aller bekannten lebenden Organismen und vieler Viren tr&#228;gt. Sie steckt in jedem Zellkern (und in den Mitochondrien) und ist die Grundlage f&#252;r Erblichkeit, Zellfunktion und Weitergabe von Merkmalen an die n&#228;chst...</code></span></summary><div><table><thead><tr></tr></thead><tbody><tr><td>AuthorName</td><td><div class=\"dni-plaintext\"><pre>&lt;null&gt;</pre></div></td></tr><tr><td>CreatedAt</td><td><span>2025-10-23 11:59:12Z</span></td></tr><tr><td>Role</td><td><details class=\"dni-treeview\"><summary><span class=\"dni-code-hint\"><code>assistant</code></span></summary><div><table><thead><tr></tr></thead><tbody><tr><td>Value</td><td><div class=\"dni-plaintext\"><pre>assistant</pre></div></td></tr></tbody></table></div></details></td></tr><tr><td>Text</td><td><div class=\"dni-plaintext\"><pre>**DNA – Desoxyribonukleins&#228;ure**  \n",
       "\n",
       "DNA ist das Molek&#252;l, das die genetische Information aller bekannten lebenden Organismen und vieler Viren tr&#228;gt. Sie steckt in jedem Zellkern (und in den Mitochondrien) und ist die Grundlage f&#252;r Erblichkeit, Zellfunktion und Weitergabe von Merkmalen an die n&#228;chste Generation.\n",
       "\n",
       "### Aufbau\n",
       "* **Nukleotide**: Das Grundbaustein‑Molek&#252;l der DNA. Jedes Nukleotid besteht aus drei Teilen:\n",
       "  1. **Desoxyribose** – ein 5‑C‑Zucker.\n",
       "  2. **Phosphatgruppe** – verbindet die Zucker und bildet das R&#252;ckgrat der Kette.\n",
       "  3. **Stickstoffhaltige Base** – vier verschiedene Arten: Adenin (A), Thymin (T), Guanin (G), Cytosin (C).\n",
       "\n",
       "* **Doppelhelix**: Zwei lange Str&#228;nge von Nukleotiden winden sich umeinander zu einer schraubenf&#246;rmigen Struktur (Helix). Die Basen paaren sich nach dem Watson‑Crick‑Prinzip:\n",
       "  - A&#160;↔&#160;T (zweifache Wasserstoffbr&#252;cke)\n",
       "  - G&#160;↔&#160;C (dreifache Wasserstoffbr&#252;cke)\n",
       "\n",
       "* **R&#252;ckgrat**: Die Zucker‑Phosphat‑R&#252;ckgr&#252;nde bilden die Seiten der Spirale; die Basen zeigen in die Mitte.\n",
       "\n",
       "### Funktion\n",
       "1. **Speicherung genetischer Information**  \n",
       "   Die Reihenfolge der Basen (Gen) bildet den Code, der die Bauanleitung f&#252;r Proteine und andere biomolekulare Funktionen liefert.\n",
       "\n",
       "2. **Replikation**  \n",
       "   Vor der Zellteilung kann die DNA sich exakt kopieren, sodass jede Tochterzelle eine komplette Kopie des genetischen Materials erh&#228;lt.\n",
       "\n",
       "3. **Transkription**  \n",
       "   Ein DNA‑Segment wird in eine mRNA‑Kette umgeschrieben, die die genetische Information von der DNA zum Ribosom transportiert.\n",
       "\n",
       "4. **Translation**  \n",
       "   Auf dem Ribosom wird die mRNA in eine Aminos&#228;uresequenz (Protein) &#252;bersetzt, das die zellul&#228;ren Aufgaben &#252;bernimmt.\n",
       "\n",
       "### Warum ist DNA wichtig?\n",
       "- **Erblichkeit**: DNA bestimmt, wie Merkmale von Eltern auf Nachkommen weitergegeben werden.\n",
       "- **Biologische Vielfalt**: Mutationen in der DNA f&#252;hren zu genetischer Variation, die Evolution erm&#246;glicht.\n",
       "- **Diagnostik und Therapie**: DNA‑Sequenzierung hilft bei der Erkennung von Krankheiten, bei forensischen Untersuchungen und bei der Entwicklung gezielter Medikamente.\n",
       "\n",
       "Kurz gesagt, DNA ist der „Bauplan“ des Lebens, verpackt in einer stabilen, aber gleichzeitig flexiblen Doppelhelix, die sowohl Speicher als auch eine effiziente Arbeitsplattform f&#252;r die Biologie bietet.</pre></div></td></tr><tr><td>Contents</td><td><table><thead><tr><th><i>index</i></th><th><i>type</i></th><th>value</th></tr></thead><tbody><tr><td>0</td><td><span><a href=\"https://docs.microsoft.com/dotnet/api/microsoft.extensions.ai.textcontent?view=net-7.0\">Microsoft.Extensions.AI.TextContent</a></span></td><td><details class=\"dni-treeview\"><summary><span class=\"dni-code-hint\"><code>**DNA – Desoxyribonukleins&#228;ure**  \\n\\nDNA ist das Molek&#252;l, das die genetische Information aller bekannten lebenden Organismen und vieler Viren tr&#228;gt. Sie steckt in jedem Zellkern (und in den Mitochondrien) und ist die Grundlage f&#252;r Erblichkeit, Zellfunktion und Weitergabe von Merkmalen an die n&#228;chst...</code></span></summary><div><table><thead><tr></tr></thead><tbody><tr><td>Text</td><td><div class=\"dni-plaintext\"><pre>**DNA – Desoxyribonukleins&#228;ure**  \n",
       "\n",
       "DNA ist das Molek&#252;l, das die genetische Information aller bekannten lebenden Organismen und vieler Viren tr&#228;gt. Sie steckt in jedem Zellkern (und in den Mitochondrien) und ist die Grundlage f&#252;r Erblichkeit, Zellfunktion und Weitergabe von Merkmalen an die n&#228;chste Generation.\n",
       "\n",
       "### Aufbau\n",
       "* **Nukleotide**: Das Grundbaustein‑Molek&#252;l der DNA. Jedes Nukleotid besteht aus drei Teilen:\n",
       "  1. **Desoxyribose** – ein 5‑C‑Zucker.\n",
       "  2. **Phosphatgruppe** – verbindet die Zucker und bildet das R&#252;ckgrat der Kette.\n",
       "  3. **Stickstoffhaltige Base** – vier verschiedene Arten: Adenin (A), Thymin (T), Guanin (G), Cytosin (C).\n",
       "\n",
       "* **Doppelhelix**: Zwei lange Str&#228;nge von Nukleotiden winden sich umeinander zu einer schraubenf&#246;rmigen Struktur (Helix). Die Basen paaren sich nach dem Watson‑Crick‑Prinzip:\n",
       "  - A&#160;↔&#160;T (zweifache Wasserstoffbr&#252;cke)\n",
       "  - G&#160;↔&#160;C (dreifache Wasserstoffbr&#252;cke)\n",
       "\n",
       "* **R&#252;ckgrat**: Die Zucker‑Phosphat‑R&#252;ckgr&#252;nde bilden die Seiten der Spirale; die Basen zeigen in die Mitte.\n",
       "\n",
       "### Funktion\n",
       "1. **Speicherung genetischer Information**  \n",
       "   Die Reihenfolge der Basen (Gen) bildet den Code, der die Bauanleitung f&#252;r Proteine und andere biomolekulare Funktionen liefert.\n",
       "\n",
       "2. **Replikation**  \n",
       "   Vor der Zellteilung kann die DNA sich exakt kopieren, sodass jede Tochterzelle eine komplette Kopie des genetischen Materials erh&#228;lt.\n",
       "\n",
       "3. **Transkription**  \n",
       "   Ein DNA‑Segment wird in eine mRNA‑Kette umgeschrieben, die die genetische Information von der DNA zum Ribosom transportiert.\n",
       "\n",
       "4. **Translation**  \n",
       "   Auf dem Ribosom wird die mRNA in eine Aminos&#228;uresequenz (Protein) &#252;bersetzt, das die zellul&#228;ren Aufgaben &#252;bernimmt.\n",
       "\n",
       "### Warum ist DNA wichtig?\n",
       "- **Erblichkeit**: DNA bestimmt, wie Merkmale von Eltern auf Nachkommen weitergegeben werden.\n",
       "- **Biologische Vielfalt**: Mutationen in der DNA f&#252;hren zu genetischer Variation, die Evolution erm&#246;glicht.\n",
       "- **Diagnostik und Therapie**: DNA‑Sequenzierung hilft bei der Erkennung von Krankheiten, bei forensischen Untersuchungen und bei der Entwicklung gezielter Medikamente.\n",
       "\n",
       "Kurz gesagt, DNA ist der „Bauplan“ des Lebens, verpackt in einer stabilen, aber gleichzeitig flexiblen Doppelhelix, die sowohl Speicher als auch eine effiziente Arbeitsplattform f&#252;r die Biologie bietet.</pre></div></td></tr><tr><td>Annotations</td><td><div class=\"dni-plaintext\"><pre>&lt;null&gt;</pre></div></td></tr><tr><td>RawRepresentation</td><td><div class=\"dni-plaintext\"><pre>&lt;null&gt;</pre></div></td></tr><tr><td>AdditionalProperties</td><td><div class=\"dni-plaintext\"><pre>&lt;null&gt;</pre></div></td></tr></tbody></table></div></details></td></tr><tr><td>1</td><td><span><a href=\"https://docs.microsoft.com/dotnet/api/microsoft.extensions.ai.textreasoningcontent?view=net-7.0\">Microsoft.Extensions.AI.TextReasoningContent</a></span></td><td><details class=\"dni-treeview\"><summary><span class=\"dni-code-hint\"><code>User: &quot;Was ist DNA&quot; German: &quot;What is DNA&quot;. The user likely wants a definition. The assistant should explain DNA (deoxyribonucleic acid), its structure, function, genetic code, double helix, etc. Provide simple explanation but could include more detail. Provide in German. Probably no extra context. T...</code></span></summary><div><table><thead><tr></tr></thead><tbody><tr><td>Text</td><td><div class=\"dni-plaintext\"><pre>User: &quot;Was ist DNA&quot; German: &quot;What is DNA&quot;. The user likely wants a definition. The assistant should explain DNA (deoxyribonucleic acid), its structure, function, genetic code, double helix, etc. Provide simple explanation but could include more detail. Provide in German. Probably no extra context. The user wants a short answer? But as a language model, we can respond with a concise but thorough explanation. Maybe include its role as genetic material, its structure (double helix, nucleotides), base pairing, genetic code, replication, transcription, translation. Also mention DNA is in the cell nucleus and mitochondria. Also mention that it&#39;s the blueprint for life. Also mention that DNA is composed of deoxyribose sugar, phosphate groups, and nitrogenous bases adenine, thymine, guanine, cytosine. They pair as A-T, G-C. The structure is double helix. Provide a short summary.\n",
       "\n",
       "We should write in German. Let&#39;s answer in German.\n",
       "\n",
       "We can mention &quot;DNA steht f&#252;r Desoxyribonukleins&#228;ure&quot; and give the definition. Provide some details about the double helix and base pairing, genetic code, etc.\n",
       "\n",
       "Let&#39;s answer accordingly.</pre></div></td></tr><tr><td>Annotations</td><td><div class=\"dni-plaintext\"><pre>&lt;null&gt;</pre></div></td></tr><tr><td>RawRepresentation</td><td><div class=\"dni-plaintext\"><pre>&lt;null&gt;</pre></div></td></tr><tr><td>AdditionalProperties</td><td><div class=\"dni-plaintext\"><pre>&lt;null&gt;</pre></div></td></tr></tbody></table></div></details></td></tr></tbody></table></td></tr><tr><td>MessageId</td><td><div class=\"dni-plaintext\"><pre>&lt;null&gt;</pre></div></td></tr><tr><td>RawRepresentation</td><td><details class=\"dni-treeview\"><summary><span class=\"dni-code-hint\"><code>OllamaSharp.Models.Chat.Message</code></span></summary><div><table><thead><tr></tr></thead><tbody><tr><td>Role</td><td><details class=\"dni-treeview\"><summary><span class=\"dni-code-hint\"><code>assistant</code></span></summary><div><table><thead><tr></tr></thead><tbody></tbody></table></div></details></td></tr><tr><td>Content</td><td><div class=\"dni-plaintext\"><pre>**DNA – Desoxyribonukleins&#228;ure**  \n",
       "\n",
       "DNA ist das Molek&#252;l, das die genetische Information aller bekannten lebenden Organismen und vieler Viren tr&#228;gt. Sie steckt in jedem Zellkern (und in den Mitochondrien) und ist die Grundlage f&#252;r Erblichkeit, Zellfunktion und Weitergabe von Merkmalen an die n&#228;chste Generation.\n",
       "\n",
       "### Aufbau\n",
       "* **Nukleotide**: Das Grundbaustein‑Molek&#252;l der DNA. Jedes Nukleotid besteht aus drei Teilen:\n",
       "  1. **Desoxyribose** – ein 5‑C‑Zucker.\n",
       "  2. **Phosphatgruppe** – verbindet die Zucker und bildet das R&#252;ckgrat der Kette.\n",
       "  3. **Stickstoffhaltige Base** – vier verschiedene Arten: Adenin (A), Thymin (T), Guanin (G), Cytosin (C).\n",
       "\n",
       "* **Doppelhelix**: Zwei lange Str&#228;nge von Nukleotiden winden sich umeinander zu einer schraubenf&#246;rmigen Struktur (Helix). Die Basen paaren sich nach dem Watson‑Crick‑Prinzip:\n",
       "  - A&#160;↔&#160;T (zweifache Wasserstoffbr&#252;cke)\n",
       "  - G&#160;↔&#160;C (dreifache Wasserstoffbr&#252;cke)\n",
       "\n",
       "* **R&#252;ckgrat**: Die Zucker‑Phosphat‑R&#252;ckgr&#252;nde bilden die Seiten der Spirale; die Basen zeigen in die Mitte.\n",
       "\n",
       "### Funktion\n",
       "1. **Speicherung genetischer Information**  \n",
       "   Die Reihenfolge der Basen (Gen) bildet den Code, der die Bauanleitung f&#252;r Proteine und andere biomolekulare Funktionen liefert.\n",
       "\n",
       "2. **Replikation**  \n",
       "   Vor der Zellteilung kann die DNA sich exakt kopieren, sodass jede Tochterzelle eine komplette Kopie des genetischen Materials erh&#228;lt.\n",
       "\n",
       "3. **Transkription**  \n",
       "   Ein DNA‑Segment wird in eine mRNA‑Kette umgeschrieben, die die genetische Information von der DNA zum Ribosom transportiert.\n",
       "\n",
       "4. **Translation**  \n",
       "   Auf dem Ribosom wird die mRNA in eine Aminos&#228;uresequenz (Protein) &#252;bersetzt, das die zellul&#228;ren Aufgaben &#252;bernimmt.\n",
       "\n",
       "### Warum ist DNA wichtig?\n",
       "- **Erblichkeit**: DNA bestimmt, wie Merkmale von Eltern auf Nachkommen weitergegeben werden.\n",
       "- **Biologische Vielfalt**: Mutationen in der DNA f&#252;hren zu genetischer Variation, die Evolution erm&#246;glicht.\n",
       "- **Diagnostik und Therapie**: DNA‑Sequenzierung hilft bei der Erkennung von Krankheiten, bei forensischen Untersuchungen und bei der Entwicklung gezielter Medikamente.\n",
       "\n",
       "Kurz gesagt, DNA ist der „Bauplan“ des Lebens, verpackt in einer stabilen, aber gleichzeitig flexiblen Doppelhelix, die sowohl Speicher als auch eine effiziente Arbeitsplattform f&#252;r die Biologie bietet.</pre></div></td></tr><tr><td>Images</td><td><div class=\"dni-plaintext\"><pre>[  ]</pre></div></td></tr><tr><td>Thinking</td><td><div class=\"dni-plaintext\"><pre>User: &quot;Was ist DNA&quot; German: &quot;What is DNA&quot;. The user likely wants a definition. The assistant should explain DNA (deoxyribonucleic acid), its structure, function, genetic code, double helix, etc. Provide simple explanation but could include more detail. Provide in German. Probably no extra context. The user wants a short answer? But as a language model, we can respond with a concise but thorough explanation. Maybe include its role as genetic material, its structure (double helix, nucleotides), base pairing, genetic code, replication, transcription, translation. Also mention DNA is in the cell nucleus and mitochondria. Also mention that it&#39;s the blueprint for life. Also mention that DNA is composed of deoxyribose sugar, phosphate groups, and nitrogenous bases adenine, thymine, guanine, cytosine. They pair as A-T, G-C. The structure is double helix. Provide a short summary.\n",
       "\n",
       "We should write in German. Let&#39;s answer in German.\n",
       "\n",
       "We can mention &quot;DNA steht f&#252;r Desoxyribonukleins&#228;ure&quot; and give the definition. Provide some details about the double helix and base pairing, genetic code, etc.\n",
       "\n",
       "Let&#39;s answer accordingly.</pre></div></td></tr><tr><td>ToolName</td><td><div class=\"dni-plaintext\"><pre>&lt;null&gt;</pre></div></td></tr><tr><td>ToolCalls</td><td><i>(empty)</i></td></tr></tbody></table></div></details></td></tr><tr><td>AdditionalProperties</td><td><div class=\"dni-plaintext\"><pre>&lt;null&gt;</pre></div></td></tr></tbody></table></div></details></td></tr></tbody></table></td></tr><tr><td>Text</td><td><div class=\"dni-plaintext\"><pre>**DNA – Desoxyribonukleins&#228;ure**  \n",
       "\n",
       "DNA ist das Molek&#252;l, das die genetische Information aller bekannten lebenden Organismen und vieler Viren tr&#228;gt. Sie steckt in jedem Zellkern (und in den Mitochondrien) und ist die Grundlage f&#252;r Erblichkeit, Zellfunktion und Weitergabe von Merkmalen an die n&#228;chste Generation.\n",
       "\n",
       "### Aufbau\n",
       "* **Nukleotide**: Das Grundbaustein‑Molek&#252;l der DNA. Jedes Nukleotid besteht aus drei Teilen:\n",
       "  1. **Desoxyribose** – ein 5‑C‑Zucker.\n",
       "  2. **Phosphatgruppe** – verbindet die Zucker und bildet das R&#252;ckgrat der Kette.\n",
       "  3. **Stickstoffhaltige Base** – vier verschiedene Arten: Adenin (A), Thymin (T), Guanin (G), Cytosin (C).\n",
       "\n",
       "* **Doppelhelix**: Zwei lange Str&#228;nge von Nukleotiden winden sich umeinander zu einer schraubenf&#246;rmigen Struktur (Helix). Die Basen paaren sich nach dem Watson‑Crick‑Prinzip:\n",
       "  - A&#160;↔&#160;T (zweifache Wasserstoffbr&#252;cke)\n",
       "  - G&#160;↔&#160;C (dreifache Wasserstoffbr&#252;cke)\n",
       "\n",
       "* **R&#252;ckgrat**: Die Zucker‑Phosphat‑R&#252;ckgr&#252;nde bilden die Seiten der Spirale; die Basen zeigen in die Mitte.\n",
       "\n",
       "### Funktion\n",
       "1. **Speicherung genetischer Information**  \n",
       "   Die Reihenfolge der Basen (Gen) bildet den Code, der die Bauanleitung f&#252;r Proteine und andere biomolekulare Funktionen liefert.\n",
       "\n",
       "2. **Replikation**  \n",
       "   Vor der Zellteilung kann die DNA sich exakt kopieren, sodass jede Tochterzelle eine komplette Kopie des genetischen Materials erh&#228;lt.\n",
       "\n",
       "3. **Transkription**  \n",
       "   Ein DNA‑Segment wird in eine mRNA‑Kette umgeschrieben, die die genetische Information von der DNA zum Ribosom transportiert.\n",
       "\n",
       "4. **Translation**  \n",
       "   Auf dem Ribosom wird die mRNA in eine Aminos&#228;uresequenz (Protein) &#252;bersetzt, das die zellul&#228;ren Aufgaben &#252;bernimmt.\n",
       "\n",
       "### Warum ist DNA wichtig?\n",
       "- **Erblichkeit**: DNA bestimmt, wie Merkmale von Eltern auf Nachkommen weitergegeben werden.\n",
       "- **Biologische Vielfalt**: Mutationen in der DNA f&#252;hren zu genetischer Variation, die Evolution erm&#246;glicht.\n",
       "- **Diagnostik und Therapie**: DNA‑Sequenzierung hilft bei der Erkennung von Krankheiten, bei forensischen Untersuchungen und bei der Entwicklung gezielter Medikamente.\n",
       "\n",
       "Kurz gesagt, DNA ist der „Bauplan“ des Lebens, verpackt in einer stabilen, aber gleichzeitig flexiblen Doppelhelix, die sowohl Speicher als auch eine effiziente Arbeitsplattform f&#252;r die Biologie bietet.</pre></div></td></tr><tr><td>ResponseId</td><td><div class=\"dni-plaintext\"><pre>2025-10-23T11:59:12.1907084Z</pre></div></td></tr><tr><td>ConversationId</td><td><div class=\"dni-plaintext\"><pre>&lt;null&gt;</pre></div></td></tr><tr><td>ModelId</td><td><div class=\"dni-plaintext\"><pre>gpt-oss:20b</pre></div></td></tr><tr><td>CreatedAt</td><td><span>2025-10-23 11:59:12Z</span></td></tr><tr><td>FinishReason</td><td><details class=\"dni-treeview\"><summary><span class=\"dni-code-hint\"><code>stop</code></span></summary><div><table><thead><tr></tr></thead><tbody><tr><td>Value</td><td><div class=\"dni-plaintext\"><pre>stop</pre></div></td></tr></tbody></table></div></details></td></tr><tr><td>Usage</td><td><details class=\"dni-treeview\"><summary><span class=\"dni-code-hint\"><code>Microsoft.Extensions.AI.UsageDetails</code></span></summary><div><table><thead><tr></tr></thead><tbody><tr><td>InputTokenCount</td><td><div class=\"dni-plaintext\"><pre>70</pre></div></td></tr><tr><td>OutputTokenCount</td><td><div class=\"dni-plaintext\"><pre>864</pre></div></td></tr><tr><td>TotalTokenCount</td><td><div class=\"dni-plaintext\"><pre>934</pre></div></td></tr><tr><td>AdditionalCounts</td><td><div class=\"dni-plaintext\"><pre>&lt;null&gt;</pre></div></td></tr></tbody></table></div></details></td></tr><tr><td>RawRepresentation</td><td><details class=\"dni-treeview\"><summary><span class=\"dni-code-hint\"><code>OllamaSharp.Models.Chat.ChatDoneResponseStream</code></span></summary><div><table><thead><tr></tr></thead><tbody><tr><td>TotalDuration</td><td><div class=\"dni-plaintext\"><pre>5905640000</pre></div></td></tr><tr><td>LoadDuration</td><td><div class=\"dni-plaintext\"><pre>77888700</pre></div></td></tr><tr><td>PromptEvalCount</td><td><div class=\"dni-plaintext\"><pre>70</pre></div></td></tr><tr><td>PromptEvalDuration</td><td><div class=\"dni-plaintext\"><pre>213009600</pre></div></td></tr><tr><td>EvalCount</td><td><div class=\"dni-plaintext\"><pre>864</pre></div></td></tr><tr><td>EvalDuration</td><td><div class=\"dni-plaintext\"><pre>5614121900</pre></div></td></tr><tr><td>DoneReason</td><td><div class=\"dni-plaintext\"><pre>stop</pre></div></td></tr><tr><td>Model</td><td><div class=\"dni-plaintext\"><pre>gpt-oss:20b</pre></div></td></tr><tr><td>CreatedAtString</td><td><div class=\"dni-plaintext\"><pre>2025-10-23T11:59:12.1907084Z</pre></div></td></tr><tr><td>CreatedAt</td><td><span>2025-10-23 11:59:12Z</span></td></tr><tr><td>Message</td><td><details class=\"dni-treeview\"><summary><span class=\"dni-code-hint\"><code>OllamaSharp.Models.Chat.Message</code></span></summary><div><table><thead><tr></tr></thead><tbody><tr><td>Role</td><td><details class=\"dni-treeview\"><summary><span class=\"dni-code-hint\"><code>assistant</code></span></summary><div><table><thead><tr></tr></thead><tbody></tbody></table></div></details></td></tr><tr><td>Content</td><td><div class=\"dni-plaintext\"><pre>**DNA – Desoxyribonukleins&#228;ure**  \n",
       "\n",
       "DNA ist das Molek&#252;l, das die genetische Information aller bekannten lebenden Organismen und vieler Viren tr&#228;gt. Sie steckt in jedem Zellkern (und in den Mitochondrien) und ist die Grundlage f&#252;r Erblichkeit, Zellfunktion und Weitergabe von Merkmalen an die n&#228;chste Generation.\n",
       "\n",
       "### Aufbau\n",
       "* **Nukleotide**: Das Grundbaustein‑Molek&#252;l der DNA. Jedes Nukleotid besteht aus drei Teilen:\n",
       "  1. **Desoxyribose** – ein 5‑C‑Zucker.\n",
       "  2. **Phosphatgruppe** – verbindet die Zucker und bildet das R&#252;ckgrat der Kette.\n",
       "  3. **Stickstoffhaltige Base** – vier verschiedene Arten: Adenin (A), Thymin (T), Guanin (G), Cytosin (C).\n",
       "\n",
       "* **Doppelhelix**: Zwei lange Str&#228;nge von Nukleotiden winden sich umeinander zu einer schraubenf&#246;rmigen Struktur (Helix). Die Basen paaren sich nach dem Watson‑Crick‑Prinzip:\n",
       "  - A&#160;↔&#160;T (zweifache Wasserstoffbr&#252;cke)\n",
       "  - G&#160;↔&#160;C (dreifache Wasserstoffbr&#252;cke)\n",
       "\n",
       "* **R&#252;ckgrat**: Die Zucker‑Phosphat‑R&#252;ckgr&#252;nde bilden die Seiten der Spirale; die Basen zeigen in die Mitte.\n",
       "\n",
       "### Funktion\n",
       "1. **Speicherung genetischer Information**  \n",
       "   Die Reihenfolge der Basen (Gen) bildet den Code, der die Bauanleitung f&#252;r Proteine und andere biomolekulare Funktionen liefert.\n",
       "\n",
       "2. **Replikation**  \n",
       "   Vor der Zellteilung kann die DNA sich exakt kopieren, sodass jede Tochterzelle eine komplette Kopie des genetischen Materials erh&#228;lt.\n",
       "\n",
       "3. **Transkription**  \n",
       "   Ein DNA‑Segment wird in eine mRNA‑Kette umgeschrieben, die die genetische Information von der DNA zum Ribosom transportiert.\n",
       "\n",
       "4. **Translation**  \n",
       "   Auf dem Ribosom wird die mRNA in eine Aminos&#228;uresequenz (Protein) &#252;bersetzt, das die zellul&#228;ren Aufgaben &#252;bernimmt.\n",
       "\n",
       "### Warum ist DNA wichtig?\n",
       "- **Erblichkeit**: DNA bestimmt, wie Merkmale von Eltern auf Nachkommen weitergegeben werden.\n",
       "- **Biologische Vielfalt**: Mutationen in der DNA f&#252;hren zu genetischer Variation, die Evolution erm&#246;glicht.\n",
       "- **Diagnostik und Therapie**: DNA‑Sequenzierung hilft bei der Erkennung von Krankheiten, bei forensischen Untersuchungen und bei der Entwicklung gezielter Medikamente.\n",
       "\n",
       "Kurz gesagt, DNA ist der „Bauplan“ des Lebens, verpackt in einer stabilen, aber gleichzeitig flexiblen Doppelhelix, die sowohl Speicher als auch eine effiziente Arbeitsplattform f&#252;r die Biologie bietet.</pre></div></td></tr><tr><td>Images</td><td><div class=\"dni-plaintext\"><pre>[  ]</pre></div></td></tr><tr><td>Thinking</td><td><div class=\"dni-plaintext\"><pre>User: &quot;Was ist DNA&quot; German: &quot;What is DNA&quot;. The user likely wants a definition. The assistant should explain DNA (deoxyribonucleic acid), its structure, function, genetic code, double helix, etc. Provide simple explanation but could include more detail. Provide in German. Probably no extra context. The user wants a short answer? But as a language model, we can respond with a concise but thorough explanation. Maybe include its role as genetic material, its structure (double helix, nucleotides), base pairing, genetic code, replication, transcription, translation. Also mention DNA is in the cell nucleus and mitochondria. Also mention that it&#39;s the blueprint for life. Also mention that DNA is composed of deoxyribose sugar, phosphate groups, and nitrogenous bases adenine, thymine, guanine, cytosine. They pair as A-T, G-C. The structure is double helix. Provide a short summary.\n",
       "\n",
       "We should write in German. Let&#39;s answer in German.\n",
       "\n",
       "We can mention &quot;DNA steht f&#252;r Desoxyribonukleins&#228;ure&quot; and give the definition. Provide some details about the double helix and base pairing, genetic code, etc.\n",
       "\n",
       "Let&#39;s answer accordingly.</pre></div></td></tr><tr><td>ToolName</td><td><div class=\"dni-plaintext\"><pre>&lt;null&gt;</pre></div></td></tr><tr><td>ToolCalls</td><td><i>(empty)</i></td></tr></tbody></table></div></details></td></tr><tr><td>Done</td><td><div class=\"dni-plaintext\"><pre>True</pre></div></td></tr></tbody></table></div></details></td></tr><tr><td>AdditionalProperties</td><td><table><thead><tr><th><i>key</i></th><th>value</th></tr></thead><tbody><tr><td><div class=\"dni-plaintext\"><pre>load_duration</pre></div></td><td><span>00:00:00.0778887</span></td></tr><tr><td><div class=\"dni-plaintext\"><pre>total_duration</pre></div></td><td><span>00:00:05.9056400</span></td></tr><tr><td><div class=\"dni-plaintext\"><pre>prompt_eval_duration</pre></div></td><td><span>00:00:00.2130096</span></td></tr><tr><td><div class=\"dni-plaintext\"><pre>eval_duration</pre></div></td><td><span>00:00:05.6141219</span></td></tr></tbody></table></td></tr></tbody></table></div></details><style>\r\n",
       ".dni-code-hint {\r\n",
       "    font-style: italic;\r\n",
       "    overflow: hidden;\r\n",
       "    white-space: nowrap;\r\n",
       "}\r\n",
       ".dni-treeview {\r\n",
       "    white-space: nowrap;\r\n",
       "}\r\n",
       ".dni-treeview td {\r\n",
       "    vertical-align: top;\r\n",
       "    text-align: start;\r\n",
       "}\r\n",
       "details.dni-treeview {\r\n",
       "    padding-left: 1em;\r\n",
       "}\r\n",
       "table td {\r\n",
       "    text-align: start;\r\n",
       "}\r\n",
       "table tr { \r\n",
       "    vertical-align: top; \r\n",
       "    margin: 0em 0px;\r\n",
       "}\r\n",
       "table tr td pre \r\n",
       "{ \r\n",
       "    vertical-align: top !important; \r\n",
       "    margin: 0em 0px !important;\r\n",
       "} \r\n",
       "table th {\r\n",
       "    text-align: start;\r\n",
       "}\r\n",
       "</style>"
      ]
     },
     "metadata": {},
     "output_type": "display_data"
    }
   ],
   "source": [
    "Prompt.getResponse client \"Was ist DNA\""
   ]
  },
  {
   "cell_type": "code",
   "execution_count": 33,
   "metadata": {
    "dotnet_interactive": {
     "language": "fsharp"
    },
    "polyglot_notebook": {
     "kernelName": "fsharp"
    }
   },
   "outputs": [
    {
     "data": {
      "text/plain": [
       "**DNA – Das Deoxyribonukleinsäure-Molekül**\n",
       "\n",
       "- **Abkürzung**  \n",
       "  *DNA* steht für **Deoxyribonukleinsäure** (engl.: deoxyribonucleic acid).\n",
       "\n",
       "- **Grundstruktur**  \n",
       "  • Das DNA‑Molekül ist ein Doppelhelix‑Schlangendesign, das sich wie ein verdrehter Sprossenbalken (B-DNA) ausbreitet.  \n",
       "  • Jede Strangseite besteht aus einer Kette von Nukleotiden.  \n",
       "  • Ein Nukleotid setzt sich aus drei Teilen zusammen:  \n",
       "    1. einem Phosphat‑Gruppen‑Rückgrat,  \n",
       "    2. einem Desoxyribose‑Zucker (5‑C‑Säure),  \n",
       "    3. einer stickstoffhaltigen Base.\n",
       "\n",
       "- **Die vier Basen**  \n",
       "  | Base | Abkürzung | Chemische Verbindung |\n",
       "  |------|-----------|---------------------|\n",
       "  | Adenin | A | Purin |\n",
       "  | Guanin | G | Purin |\n",
       "  | Cytosin | C | Pyrimidin |\n",
       "  | Thymin | T | Pyrimidin |\n",
       "\n",
       "  Die Basen paaren sich streng über Wasserstoffbrücken:  \n",
       "  A ↔ T (zwei Brücken)  \n",
       "  G ↔ C (drei Brücken)\n",
       "\n",
       "- **Genetische Information**  \n",
       "  - Die Reihenfolge der Basen entlang eines Strangs bildet den **Genotyp**.  \n",
       "  - Drei Basen (ein **Codon**) kodieren für eine Aminosäure; damit ergibt sich die **Proteinkette** (Translation).  \n",
       "  - Die komplette DNA einer Zelle trägt alle Anweisungen für Aufbau, Funktion und Regulation des Organismus.\n",
       "\n",
       "- **Ort**  \n",
       "  - In Bakterien ist die DNA zirkulär und frei im Cytoplasma.  \n",
       "  - In Eukaryoten liegt die DNA im Zellkern (Chromosomen) und, in geringerem Maße, in Mitochondrien und Chloroplasten.\n",
       "\n",
       "- **Entdeckung & Geschichte**  \n",
       "  - 1869 erstmals von Friedrich Miescher isoliert („Nuklein“, später „Nukleinsäure“).  \n",
       "  - 1953 zeigte die doppelte Helixstruktur durch Rosalind Franklin, Maurice Wilkins und James Watson & Francis Crick.\n",
       "\n",
       "- **Funktionen & Prozesse**  \n",
       "  1. **Replikation** – DNA‑Duplikation vor Zellteilung.  \n",
       "  2. **Transkription** – DNA → RNA (mRNA).  \n",
       "  3. **Translation** – mRNA → Protein.  \n",
       "  4. **Regulation** – Genexpression, epigenetische Modifikationen (z. B. DNA‑Methylierung).\n",
       "\n",
       "- **Anwendungen**  \n",
       "  - **Molekulargenetische Diagnostik** (z. B. PCR, Sequenzierung).  \n",
       "  - **Gentechnik & Genom‑Engineering** (CRISPR/Cas, transgene Organismen).  \n",
       "  - **Forensik** (DNA‑Fingerabdruck).  \n",
       "  - **Biotechnologie** (Proteinproduktion, Impfstoffe).\n",
       "\n",
       "Zusammengefasst: DNA ist das Molekül, das die genetische Bauanleitung für lebende Organismen enthält. Seine Struktur als Doppelhelix mit vier spezifischen Basen ermöglicht die Speicherung, Übertragung und Umsetzung genetischer Information in funktionelle Proteine."
      ]
     },
     "metadata": {},
     "output_type": "display_data"
    }
   ],
   "source": [
    "Prompt.getResponseText client \"Was ist DNA\""
   ]
  },
  {
   "cell_type": "code",
   "execution_count": 49,
   "metadata": {
    "dotnet_interactive": {
     "language": "fsharp"
    },
    "polyglot_notebook": {
     "kernelName": "fsharp"
    }
   },
   "outputs": [
    {
     "data": {
      "text/plain": [
       "**DNA – Das Erbgut der Lebewesen**\n",
       "\n",
       "DNA steht für **Desoxyribonukleinsäure**. Sie ist die biologisch aktive, molekulare Basis für die Vererbung von Merkmalen in allen bekannten Lebewesen (Ausnahmen sind einige Viren, die RNA als genetisches Material nutzen).\n",
       "\n",
       "| Was ist sie? | Struktur & Aufbau | Warum ist sie wichtig? |\n",
       "|--------------|-------------------|------------------------|\n",
       "| **Molekül** | Eine Doppelhelix aus zwei Strängen, die umeinander gewunden sind. Jeder Strang besteht aus einer Zucker‑Phosphat‑Rückgrat‑Kette (Desoxyribose + Phosphat) mit einer der vier Stickstoffbasen am Ende: Adenin (A), Thymin (T), Cytosin (C) oder Guanin (G). | Die Reihenfolge der Basen bildet die **Genetik** – die Anweisungen für die Proteinsynthese und damit für die Entwicklung, Funktion und Anpassung von Organismen. |\n",
       "\n",
       "### Kernpunkte\n",
       "\n",
       "1. **Genetische Information**  \n",
       "   - Die Basenfolge wird als **Gen** bezeichnet. Ein Gen enthält die Anweisung für die Herstellung eines Proteins oder eines RNA‑Moleküls.\n",
       "   - Der gesamte Satz von Genen in einer Zelle heißt **Genome** (Genom).\n",
       "\n",
       "2. **Replikation**  \n",
       "   - Vor der Zellteilung kopiert jede Zelle ihr DNA‑Molekül exakt, um sicherzustellen, dass die Tochterzellen die gleiche genetische Information erhalten.\n",
       "\n",
       "3. **Transkription & Translation**  \n",
       "   - DNA‑Segment wird in **mRNA** umgeschrieben (Transkription).  \n",
       "   - Die mRNA verlässt den Zellkern und wird von Ribosomen in ein Protein übersetzt (Translation).  \n",
       "\n",
       "4. **Mutation**  \n",
       "   - Fehler bei der DNA‑Replikation oder durch Umwelteinflüsse können Basenänderungen (Mutationen) verursachen.  \n",
       "   - Mutationen können harmlos, vorteilhaft oder schädlich sein und sind die Basis für Evolution.\n",
       "\n",
       "5. **DNA-Analyse**  \n",
       "   - In Medizin, Forensik, Ökologie und vielen anderen Bereichen wird DNA untersucht (z. B. DNA‑Sequenzierung, PCR, DNA‑Fingerabdruck).\n",
       "\n",
       "### Kurze Metapher\n",
       "Man kann sich DNA als ein „Buch“ vorstellen, das in jeder Zelle eines Organismus aufbewahrt wird. Die Seiten dieses Buches (Chromosomen) enthalten die Kapitel (Gene), die Anweisungen, wie man bestimmte Eigenschaften (Protein, Verhalten, Krankheiten) erzeugt.\n",
       "\n",
       "---\n",
       "\n",
       "**Kurz gesagt:** DNA ist das biologische Molekül, das die Erbinformation trägt und in jeder Zelle gespeichert ist. Sie ist die Grundlage für die Entstehung, Entwicklung und das Funktionieren aller lebenden Organismen."
      ]
     },
     "metadata": {},
     "output_type": "display_data"
    }
   ],
   "source": [
    "Prompt.getResponseText client \"Was ist DNA\""
   ]
  },
  {
   "cell_type": "code",
   "execution_count": 51,
   "metadata": {
    "dotnet_interactive": {
     "language": "fsharp"
    },
    "polyglot_notebook": {
     "kernelName": "fsharp"
    }
   },
   "outputs": [
    {
     "data": {
      "text/plain": [
       "**DNA – Deoxyribonukleinsäure**\n",
       "\n",
       "- **Was ist es?**  \n",
       "  DNA ist ein Molekül, das die genetische Information aller bekannten Lebewesen und vieler Viren trägt.  \n",
       "\n",
       "- **Struktur**  \n",
       "  - Doppelhelix (zwei miteinander verdrillte Stränge).  \n",
       "  - Jeder Strang besteht aus Zucker‑Phosphat‑Backbone (Deoxyribose + Phosphat) und vier stickstoffhaltigen Basen: Adenin (A), Thymin (T), Cytosin (C) und Guanin (G).  \n",
       "  - Die Basenpaarung folgt dem Watson‑Crick‑Muster: A ↔ T und C ↔ G.  \n",
       "\n",
       "- **Funktion**  \n",
       "  - **Erhalt von genetischer Information**: Speichert die Bauanleitung für Proteine und andere Zellbestandteile.  \n",
       "  - **Replikation**: Vor Zellteilung kann die DNA exakt kopiert werden, sodass jedes Tochterzelle das gleiche Genom erhält.  \n",
       "  - **Transkription & Translation**: Die DNA wird in mRNA transkribiert und diese mRNA dient als Vorlage für die Proteinsynthese.  \n",
       "\n",
       "- **Warum wichtig?**  \n",
       "  Die Kombination und Reihenfolge der Basen (Gen) bestimmt Merkmale, Funktionen und die Vererbung von Eigenschaften. DNA ist damit das Fundament aller biologischen Vielfalt und das zentrale Element der Molekularbiologie, Genetik und Medizin."
      ]
     },
     "metadata": {},
     "output_type": "display_data"
    }
   ],
   "source": [
    "Prompt.getResponseText client \"Was ist DNA\""
   ]
  }
 ],
 "metadata": {
  "kernelspec": {
   "display_name": ".NET (C#)",
   "language": "C#",
   "name": ".net-csharp"
  },
  "language_info": {
   "name": "polyglot-notebook"
  },
  "polyglot_notebook": {
   "kernelInfo": {
    "defaultKernelName": "csharp",
    "items": [
     {
      "aliases": [],
      "name": "csharp"
     }
    ]
   }
  }
 },
 "nbformat": 4,
 "nbformat_minor": 5
}
